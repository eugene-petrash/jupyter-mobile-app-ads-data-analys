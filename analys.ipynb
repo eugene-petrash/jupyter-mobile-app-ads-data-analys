{
 "cells": [
  {
   "cell_type": "markdown",
   "metadata": {},
   "source": [
    "# Profitable App Profiles for the App Store and Google Play Markets\n",
    "Our aim in this project is to find mobile app profiles that are profitable for the App Store and Google Play markets. We're working as data analysts for a company that builds Android and iOS mobile apps, and our job is to enable our team of developers to make data-driven decisions with respect to the kind of apps they build.\n",
    "\n",
    "At our company, we only build apps that are free to download and install, and our main source of revenue consists of in-app ads. This means that our revenue for any given app is mostly influenced by the number of users that use our app. Our goal for this project is to analyze data to help our developers understand what kinds of apps are likely to attract more users.\n",
    "\n",
    "# Opening and Exploring the Data\n",
    "As of September 2018, there were approximately 2 million iOS apps available on the App Store, and 2.1 million Android apps on Google Play.\n",
    "\n",
    "Collecting data for over four million apps requires a significant amount of time and money, so we'll try to analyze a sample of data instead. To avoid spending resources with collecting new data ourselves, we should first try to see whether we can find any relevant existing data at no cost. Luckily, these are two data sets that seem suitable for our purpose:\n",
    "\n",
    "* [A data set](https://www.kaggle.com/lava18/google-play-store-apps/home) containing data about approximately ten thousand Android apps from Google Play\n",
    "* [A data set](https://www.kaggle.com/ramamet4/app-store-apple-data-set-10k-apps/home) containing data about approximately seven thousand iOS apps from the App Store\n",
    "Let's start by opening the two data sets and then continue with exploring the data."
   ]
  },
  {
   "cell_type": "code",
   "execution_count": 1,
   "metadata": {},
   "outputs": [],
   "source": [
    "from csv import reader\n",
    "\n",
    "with open(\"data_sets/AppleStore.csv\", encoding='utf8') as file_opened:\n",
    "    file_readed = list(reader(file_opened))\n",
    "    apple_data = file_readed[1:]\n",
    "    apple_headers = file_readed[0]"
   ]
  },
  {
   "cell_type": "code",
   "execution_count": 2,
   "metadata": {},
   "outputs": [],
   "source": [
    "from csv import reader\n",
    "\n",
    "with open(\"data_sets/googleplaystore.csv\", encoding='utf8')as file_opened:\n",
    "    file_readed = list(reader(file_opened))\n",
    "    google_data = file_readed[1:]\n",
    "    google_headers = file_readed[0]"
   ]
  },
  {
   "cell_type": "markdown",
   "metadata": {},
   "source": [
    "To make it easier to explore the two data sets, we'll first write a function named explore_data() that we can use repeatedly to explore rows in a more readable way. We'll also add an option for our function to show the number of rows and columns for any data set."
   ]
  },
  {
   "cell_type": "code",
   "execution_count": 3,
   "metadata": {},
   "outputs": [],
   "source": [
    "def explore_data(dataset, start, end, rows_and_columns=False):\n",
    "    dataset_slice = dataset[start:end]    \n",
    "    for row in dataset_slice:\n",
    "        print(\"%s\\n\" % row)\n",
    "\n",
    "    if rows_and_columns:\n",
    "        print('Number of rows:', len(dataset))\n",
    "        print('Number of columns:', len(dataset[0]))"
   ]
  },
  {
   "cell_type": "markdown",
   "metadata": {},
   "source": [
    "To make it easier to explore the two data sets, we'll first write a function named explore_data() that we can use repeatedly to explore rows in a more readable way. We'll also add an option for our function to show the number of rows and columns for any data set."
   ]
  },
  {
   "cell_type": "code",
   "execution_count": 4,
   "metadata": {},
   "outputs": [
    {
     "name": "stdout",
     "output_type": "stream",
     "text": [
      "App\n",
      "\n",
      "Category\n",
      "\n",
      "Rating\n",
      "\n",
      "Reviews\n",
      "\n",
      "Size\n",
      "\n",
      "Installs\n",
      "\n",
      "Type\n",
      "\n",
      "Price\n",
      "\n",
      "Content Rating\n",
      "\n",
      "Genres\n",
      "\n",
      "Last Updated\n",
      "\n",
      "Current Ver\n",
      "\n",
      "Android Ver\n",
      "\n",
      "['Photo Editor & Candy Camera & Grid & ScrapBook', 'ART_AND_DESIGN', '4.1', '159', '19M', '10,000+', 'Free', '0', 'Everyone', 'Art & Design', 'January 7, 2018', '1.0.0', '4.0.3 and up']\n",
      "\n",
      "Number of rows: 10841\n",
      "Number of columns: 13\n"
     ]
    }
   ],
   "source": [
    "explore_data(google_headers, 0, len(google_headers), False)\n",
    "explore_data(google_data, 0, 1, True)"
   ]
  },
  {
   "cell_type": "markdown",
   "metadata": {},
   "source": [
    "We see that the Google Play data set has 10841 apps and 13 columns. At a quick glance, the columns that might be useful for the purpose of our analysis are 'App', 'Category', 'Reviews', 'Installs', 'Type', 'Price', and 'Genres'.\n",
    "\n",
    "Now let's take a look at the App Store data set."
   ]
  },
  {
   "cell_type": "code",
   "execution_count": 5,
   "metadata": {},
   "outputs": [
    {
     "name": "stdout",
     "output_type": "stream",
     "text": [
      "\n",
      "\n",
      "id\n",
      "\n",
      "track_name\n",
      "\n",
      "size_bytes\n",
      "\n",
      "currency\n",
      "\n",
      "price\n",
      "\n",
      "rating_count_tot\n",
      "\n",
      "rating_count_ver\n",
      "\n",
      "user_rating\n",
      "\n",
      "user_rating_ver\n",
      "\n",
      "ver\n",
      "\n",
      "cont_rating\n",
      "\n",
      "prime_genre\n",
      "\n",
      "sup_devices.num\n",
      "\n",
      "ipadSc_urls.num\n",
      "\n",
      "lang.num\n",
      "\n",
      "vpp_lic\n",
      "\n",
      "['1', '281656475', 'PAC-MAN Premium', '100788224', 'USD', '3.99', '21292', '26', '4', '4.5', '6.3.5', '4+', 'Games', '38', '5', '10', '1']\n",
      "\n",
      "Number of rows: 7197\n",
      "Number of columns: 17\n"
     ]
    }
   ],
   "source": [
    "explore_data(apple_headers, 0, len(apple_headers), False)\n",
    "explore_data(apple_data, 0, 1, True)"
   ]
  },
  {
   "cell_type": "markdown",
   "metadata": {},
   "source": [
    "We have 7197 iOS apps in this data set, and the columns that seem interesting are: 'track_name', 'currency', 'price', 'rating_count_tot', 'rating_count_ver', and 'prime_genre'. Not all column names are self-explanatory in this case, but details about each column can be found in the data set [documentation](https://www.kaggle.com/ramamet4/app-store-apple-data-set-10k-apps/home)."
   ]
  },
  {
   "cell_type": "markdown",
   "metadata": {},
   "source": [
    "# Deleting Wrong Data\n",
    "The Google Play data set has a dedicated [discussion section](https://www.kaggle.com/lava18/google-play-store-apps/discussion) , and we can see that [one of the discussions](https://www.kaggle.com/lava18/google-play-store-apps/discussion/66015) outlines an error for row 10472. Let's print this row and compare it against the header and another row that is correct.\n"
   ]
  },
  {
   "cell_type": "code",
   "execution_count": 6,
   "metadata": {},
   "outputs": [
    {
     "name": "stdout",
     "output_type": "stream",
     "text": [
      "['Life Made WI-Fi Touchscreen Photo Frame', '1.9', '19', '3.0M', '1,000+', 'Free', '0', 'Everyone', '', 'February 11, 2018', '1.0.19', '4.0 and up']\n",
      "\n",
      "\n",
      "['App', 'Category', 'Rating', 'Reviews', 'Size', 'Installs', 'Type', 'Price', 'Content Rating', 'Genres', 'Last Updated', 'Current Ver', 'Android Ver']\n",
      "\n",
      "\n",
      "['Photo Editor & Candy Camera & Grid & ScrapBook', 'ART_AND_DESIGN', '4.1', '159', '19M', '10,000+', 'Free', '0', 'Everyone', 'Art & Design', 'January 7, 2018', '1.0.0', '4.0.3 and up']\n"
     ]
    }
   ],
   "source": [
    "print(google_data[10472])  # incorrect row\n",
    "print('\\n')\n",
    "print(google_headers)  # header\n",
    "print('\\n')\n",
    "print(google_data[0])      # correct row"
   ]
  },
  {
   "cell_type": "markdown",
   "metadata": {},
   "source": [
    "The row 10472 corresponds to the app Life Made WI-Fi Touchscreen Photo Frame, and we can see that the rating is 19. This is clearly off because the maximum rating for a Google Play app is 5. As a consequence, we'll delete this row"
   ]
  },
  {
   "cell_type": "code",
   "execution_count": 7,
   "metadata": {},
   "outputs": [
    {
     "name": "stdout",
     "output_type": "stream",
     "text": [
      "10841\n",
      "10840\n"
     ]
    }
   ],
   "source": [
    "print(len(google_data))\n",
    "del google_data[10472]  # don't run this more than once\n",
    "print(len(google_data))"
   ]
  },
  {
   "cell_type": "markdown",
   "metadata": {},
   "source": [
    "\n",
    "# Removing Duplicate Entries¶\n",
    "## Part One\n",
    "Let's analyze datasets to detect duplicates"
   ]
  },
  {
   "cell_type": "code",
   "execution_count": 8,
   "metadata": {},
   "outputs": [],
   "source": [
    "def analyze_duplicates(data_set, data_set_name):\n",
    "    unique_apps = []\n",
    "    duplicate_apps = []\n",
    "    for row in data_set:\n",
    "        app = row[0]\n",
    "        if app in unique_apps:\n",
    "            duplicate_apps.append(app)\n",
    "        else:\n",
    "            unique_apps.append(app)\n",
    "\n",
    "    print(\"%s unique_apps: %s\" % (data_set_name, len(unique_apps)))\n",
    "    print(\"%s duplicate_apps: %s\" % (data_set_name, len(duplicate_apps)))"
   ]
  },
  {
   "cell_type": "markdown",
   "metadata": {},
   "source": [
    "First let's check the OS data set"
   ]
  },
  {
   "cell_type": "code",
   "execution_count": 9,
   "metadata": {},
   "outputs": [
    {
     "name": "stdout",
     "output_type": "stream",
     "text": [
      "OS unique_apps: 7197\n",
      "OS duplicate_apps: 0\n"
     ]
    }
   ],
   "source": [
    "analyze_duplicates(apple_data, \"OS\")"
   ]
  },
  {
   "cell_type": "markdown",
   "metadata": {},
   "source": [
    "Luckily the OS data set is unique. Let's check Android data as well"
   ]
  },
  {
   "cell_type": "code",
   "execution_count": 10,
   "metadata": {},
   "outputs": [
    {
     "name": "stdout",
     "output_type": "stream",
     "text": [
      "Android unique_apps: 9659\n",
      "Android duplicate_apps: 1181\n"
     ]
    }
   ],
   "source": [
    "analyze_duplicates(google_data, \"Android\")"
   ]
  },
  {
   "cell_type": "markdown",
   "metadata": {},
   "source": [
    "As we can see, the Android data set contains 1181 duplicated entries.\n",
    "\n",
    "Examples of duplicate apps: ['Quick PDF Scanner + OCR FREE', 'Box', 'Google My Business', 'ZOOM Cloud Meetings', 'join.me - Simple Meetings', 'Box', 'Zenefits', 'Google Ads', 'Google My Business', 'Slack', 'FreshBooks Classic', 'Insightly CRM', 'QuickBooks Accounting: Invoicing & Expenses', 'HipChat - Chat Built for Teams', 'Xero Accounting Software']\n",
    "\n",
    "We don't want to count certain apps more than once when we analyze data, so we need to remove the duplicate entries and keep only one entry per app. One thing we could do is remove the duplicate rows randomly, but we could probably find a better way.\n",
    "\n",
    "If you examine the rows we printed two cells above for the Instagram app, the main difference happens on the fourth position of each row, which corresponds to the number of reviews. The different numbers show that the data was collected at different times. We can use this to build a criterion for keeping rows. We won't remove rows randomly, but rather we'll keep the rows that have the highest number of reviews because the higher the number of reviews, the more reliable the ratings.\n",
    "\n",
    "To do that, we will:\n",
    "\n",
    "* Create a dictionary where each key is a unique app name, and the value is the highest number of reviews of that app\n",
    "* Use the dictionary to create a new data set, which will have only one entry per app (and we only select the apps with the highest number of reviews)\n",
    "\n",
    "## Part Two\n",
    "Let's start by building the dictionary."
   ]
  },
  {
   "cell_type": "code",
   "execution_count": 11,
   "metadata": {},
   "outputs": [],
   "source": [
    "reviews_max = {}\n",
    "\n",
    "for row in google_data:\n",
    "    name = row[0]\n",
    "    n_reviews = float(row[3])\n",
    "    if name in reviews_max.keys():\n",
    "        if reviews_max[name] < n_reviews:\n",
    "            reviews_max[name] = n_reviews\n",
    "    else:\n",
    "        reviews_max[name] = n_reviews"
   ]
  },
  {
   "cell_type": "markdown",
   "metadata": {},
   "source": [
    "In a previous code cell, we found that there are 1,181 cases where an app occurs more than once, so the length of our dictionary (of unique apps) should be equal to the difference between the length of our data set and 1,181."
   ]
  },
  {
   "cell_type": "code",
   "execution_count": 12,
   "metadata": {},
   "outputs": [
    {
     "name": "stdout",
     "output_type": "stream",
     "text": [
      "Expected length: 9659\n",
      "Actual length: 9659\n"
     ]
    }
   ],
   "source": [
    "print('Expected length:', len(google_data) - 1181)\n",
    "print('Actual length:', len(reviews_max))"
   ]
  },
  {
   "cell_type": "markdown",
   "metadata": {},
   "source": [
    "Now, let's use the reviews_max dictionary to remove the duplicates. For the duplicate cases, we'll only keep the entries with the highest number of reviews. In the code cell below:\n",
    "\n",
    "* We start by initializing two empty lists, android_clean and already_added.\n",
    "* We loop through the android data set, and for every iteration:\n",
    "    * We isolate the name of the app and the number of reviews.\n",
    "    * We add the current row (app) to the android_clean list, and the app name (name) to the already_cleaned list if:\n",
    "The number of reviews of the current app matches the number of reviews of that app as described in the reviews_max dictionary; and\n",
    "The name of the app is not already in the already_added list. We need to add this supplementary condition to account for those cases where the highest number of reviews of a duplicate app is the same for more than one entry (for example, the Box app has three entries, and the number of reviews is the same). If we just check for reviews_max[name] == n_reviews, we'll still end up with duplicate entries for some apps."
   ]
  },
  {
   "cell_type": "code",
   "execution_count": 13,
   "metadata": {},
   "outputs": [],
   "source": [
    "clean_google_data = []\n",
    "already_added = []\n",
    "\n",
    "for row in google_data:\n",
    "    name = row[0]\n",
    "    n_reviews = float(row[3])\n",
    "    if n_reviews == reviews_max[name] and name not in already_added:\n",
    "        clean_google_data.append(row)\n",
    "        already_added.append(name)"
   ]
  },
  {
   "cell_type": "markdown",
   "metadata": {},
   "source": [
    "Now let's quickly explore the new data set, and confirm that the number of rows is 9,659."
   ]
  },
  {
   "cell_type": "code",
   "execution_count": 14,
   "metadata": {},
   "outputs": [
    {
     "name": "stdout",
     "output_type": "stream",
     "text": [
      "['Photo Editor & Candy Camera & Grid & ScrapBook', 'ART_AND_DESIGN', '4.1', '159', '19M', '10,000+', 'Free', '0', 'Everyone', 'Art & Design', 'January 7, 2018', '1.0.0', '4.0.3 and up']\n",
      "\n",
      "['U Launcher Lite – FREE Live Cool Themes, Hide Apps', 'ART_AND_DESIGN', '4.7', '87510', '8.7M', '5,000,000+', 'Free', '0', 'Everyone', 'Art & Design', 'August 1, 2018', '1.2.4', '4.0.3 and up']\n",
      "\n",
      "['Sketch - Draw & Paint', 'ART_AND_DESIGN', '4.5', '215644', '25M', '50,000,000+', 'Free', '0', 'Teen', 'Art & Design', 'June 8, 2018', 'Varies with device', '4.2 and up']\n",
      "\n",
      "Number of rows: 9659\n",
      "Number of columns: 13\n"
     ]
    }
   ],
   "source": [
    "explore_data(clean_google_data, 0, 3, True)"
   ]
  },
  {
   "cell_type": "markdown",
   "metadata": {},
   "source": [
    "We have 9659 rows, just as expected."
   ]
  },
  {
   "cell_type": "markdown",
   "metadata": {},
   "source": [
    "# Removing Non-English Apps\n",
    "## Part One\n",
    "If you explore the data sets enough, you'll notice the names of some of the apps suggest they are not directed toward an English-speaking audience. Below, we see a couple of examples from both data sets:"
   ]
  },
  {
   "cell_type": "code",
   "execution_count": 15,
   "metadata": {},
   "outputs": [
    {
     "name": "stdout",
     "output_type": "stream",
     "text": [
      "436672029\n",
      "1144164707\n",
      "中国語 AQリスニング\n",
      "لعبة تقدر تربح DZ\n"
     ]
    }
   ],
   "source": [
    "print(apple_data[813][1])\n",
    "print(apple_data[6731][1])\n",
    "\n",
    "print(clean_google_data[4412][0])\n",
    "print(clean_google_data[7940][0])"
   ]
  },
  {
   "cell_type": "markdown",
   "metadata": {},
   "source": [
    "We're not interested in keeping these kind of apps, so we'll remove them. One way to go about this is to remove each app whose name contains a symbol that is not commonly used in English text — English text usually includes letters from the English alphabet, numbers composed of digits from 0 to 9, punctuation marks (., !, ?, ;, etc.), and other symbols (+, *, /, etc.).\n",
    "\n",
    "All these characters that are specific to English texts are encoded using the ASCII standard. Each ASCII character has a corresponding number between 0 and 127 associated with it, and we can take advantage of that to build a function that checks an app name and tells us whether it contains non-ASCII characters.\n",
    "\n",
    "We built this function below, and we use the built-in ord() function to find out the corresponding encoding number of each character."
   ]
  },
  {
   "cell_type": "code",
   "execution_count": 16,
   "metadata": {},
   "outputs": [
    {
     "name": "stdout",
     "output_type": "stream",
     "text": [
      "True\n",
      "False\n"
     ]
    }
   ],
   "source": [
    "def is_english(string):\n",
    "    \n",
    "    strint = string.encode('ascii', 'ignore').decode('ascii')\n",
    "    \n",
    "    for character in string:\n",
    "        if ord(character) > 127:\n",
    "            return False\n",
    "    \n",
    "    return True\n",
    "\n",
    "print(is_english('Instagram'))\n",
    "print(is_english('爱奇艺PPS -《欢乐颂2》电视剧热播'))"
   ]
  },
  {
   "cell_type": "markdown",
   "metadata": {},
   "source": [
    "The function seems to work fine, but some English app names use emojis or other symbols (™, — (em dash), – (en dash), etc.) that fall outside of the ASCII range. Because of this, we'll remove useful apps if we use the function in its current form."
   ]
  },
  {
   "cell_type": "code",
   "execution_count": 17,
   "metadata": {},
   "outputs": [
    {
     "name": "stdout",
     "output_type": "stream",
     "text": [
      "False\n",
      "False\n",
      "8482\n",
      "128540\n"
     ]
    }
   ],
   "source": [
    "\n",
    "print(is_english('Docs To Go™ Free Office Suite'))\n",
    "print(is_english('Instachat 😜'))\n",
    "\n",
    "print(ord('™'))\n",
    "print(ord('😜'))"
   ]
  },
  {
   "cell_type": "markdown",
   "metadata": {},
   "source": [
    "## Part Two\n",
    "To minimize the impact of data loss, we'll only remove an app if its name contains non-ASCII characters:"
   ]
  },
  {
   "cell_type": "code",
   "execution_count": 18,
   "metadata": {},
   "outputs": [
    {
     "name": "stdout",
     "output_type": "stream",
     "text": [
      "True\n",
      "False\n",
      "True\n",
      "False\n"
     ]
    }
   ],
   "source": [
    "from langdetect import detect\n",
    "import emoji\n",
    "\n",
    "def give_emoji_free_text(text):\n",
    "    all_chars = [str for str in text]\n",
    "    emoji_list = [c for c in all_chars if c in emoji.UNICODE_EMOJI]\n",
    "    for emoji_value in emoji_list:\n",
    "        all_chars.remove(emoji_value)\n",
    "    \n",
    "    clean_text = ''.join(all_chars)\n",
    "    return clean_text.strip()\n",
    "\n",
    "def is_english(string):\n",
    "    clean_strint = give_emoji_free_text(string)\n",
    "    try:\n",
    "        clean_strint.encode(encoding='utf-8').decode('ascii')\n",
    "    except UnicodeDecodeError:\n",
    "        return False\n",
    "    else:\n",
    "        return True\n",
    "\n",
    "print(is_english('Docs To Go™ Free Office Suite'))\n",
    "print(is_english('ナビタイム ドライブサポーター - NAVITIMEのカーナビアプリ : 0'))\n",
    "print(is_english('Instachat 😜'))\n",
    "print(is_english('自転車ナビ by NAVITIME(ナビタイム) - 自転車のナビができるアプリ : 0'))"
   ]
  },
  {
   "cell_type": "markdown",
   "metadata": {},
   "source": [
    "The function is still not perfect, and very few non-English apps might get past our filter, but this seems good enough at this point in our analysis — we shouldn't spend too much time on optimization at this point.\n",
    "\n",
    "Below, we use the is_english() function to filter out the non-English apps for both data sets:"
   ]
  },
  {
   "cell_type": "code",
   "execution_count": 19,
   "metadata": {},
   "outputs": [
    {
     "name": "stdout",
     "output_type": "stream",
     "text": [
      "['Photo Editor & Candy Camera & Grid & ScrapBook', 'ART_AND_DESIGN', '4.1', '159', '19M', '10,000+', 'Free', '0', 'Everyone', 'Art & Design', 'January 7, 2018', '1.0.0', '4.0.3 and up']\n",
      "\n",
      "['Sketch - Draw & Paint', 'ART_AND_DESIGN', '4.5', '215644', '25M', '50,000,000+', 'Free', '0', 'Teen', 'Art & Design', 'June 8, 2018', 'Varies with device', '4.2 and up']\n",
      "\n",
      "['Pixel Draw - Number Art Coloring Book', 'ART_AND_DESIGN', '4.3', '967', '2.8M', '100,000+', 'Free', '0', 'Everyone', 'Art & Design;Creativity', 'June 20, 2018', '1.1', '4.4 and up']\n",
      "\n",
      "Number of rows: 9282\n",
      "Number of columns: 13\n",
      "\n",
      "\n",
      "['1', '281656475', 'PAC-MAN Premium', '100788224', 'USD', '3.99', '21292', '26', '4', '4.5', '6.3.5', '4+', 'Games', '38', '5', '10', '1']\n",
      "\n",
      "['2', '281796108', 'Evernote - stay organized', '158578688', 'USD', '0', '161065', '26', '4', '3.5', '8.2.2', '4+', 'Productivity', '37', '5', '23', '1']\n",
      "\n",
      "['3', '281940292', 'WeatherBug - Local Weather, Radar, Maps, Alerts', '100524032', 'USD', '0', '188583', '2822', '3.5', '4.5', '5.0.0', '4+', 'Weather', '37', '5', '3', '1']\n",
      "\n",
      "Number of rows: 5874\n",
      "Number of columns: 17\n"
     ]
    }
   ],
   "source": [
    "google_data_english = []\n",
    "apple_data_english = []\n",
    "\n",
    "for app in clean_google_data:\n",
    "    name = app[0]\n",
    "    if is_english(name):\n",
    "        google_data_english.append(app)\n",
    "        \n",
    "for app in apple_data:\n",
    "    name = app[2]\n",
    "    if is_english(name):\n",
    "        apple_data_english.append(app)\n",
    "        \n",
    "explore_data(google_data_english, 0, 3, True)\n",
    "print('\\n')\n",
    "explore_data(apple_data_english, 0, 3, True)"
   ]
  },
  {
   "cell_type": "markdown",
   "metadata": {},
   "source": [
    "# Isolating the Free Apps\n",
    "As we mentioned in the introduction, we only build apps that are free to download and install, and our main source of revenue consists of in-app ads. Our data sets contain both free and non-free apps, and we'll need to isolate only the free apps for our analysis. Below, we isolate the free apps for both our data sets."
   ]
  },
  {
   "cell_type": "code",
   "execution_count": 20,
   "metadata": {},
   "outputs": [
    {
     "name": "stdout",
     "output_type": "stream",
     "text": [
      "8554\n",
      "3020\n"
     ]
    }
   ],
   "source": [
    "google_final = []\n",
    "apple_final = []\n",
    "\n",
    "for app in google_data_english:\n",
    "    price = app[7]\n",
    "    if price == '0':\n",
    "        google_final.append(app)\n",
    "        \n",
    "for app in apple_data_english:\n",
    "    price = app[5]\n",
    "    if price == '0':\n",
    "        apple_final.append(app)\n",
    "        \n",
    "print(len(google_final))\n",
    "print(len(apple_final))"
   ]
  },
  {
   "cell_type": "markdown",
   "metadata": {},
   "source": [
    "We're left with 8864 Android apps and 4056 iOS apps, which should be enough for our analysis."
   ]
  },
  {
   "cell_type": "markdown",
   "metadata": {},
   "source": [
    "# Most Common Apps by Genre\n",
    "## Part One\n",
    "As we mentioned in the introduction, our aim is to determine the kinds of apps that are likely to attract more users because our revenue is highly influenced by the number of people using our apps.\n",
    "\n",
    "To minimize risks and overhead, our validation strategy for an app idea is comprised of three steps:\n",
    "\n",
    "Build a minimal Android version of the app, and add it to Google Play.\n",
    "If the app has a good response from users, we then develop it further.\n",
    "If the app is profitable after six months, we also build an iOS version of the app and add it to the App Store.\n",
    "Because our end goal is to add the app on both the App Store and Google Play, we need to find app profiles that are successful on both markets. For instance, a profile that might work well for both markets might be a productivity app that makes use of gamification.\n",
    "\n",
    "Let's begin the analysis by getting a sense of the most common genres for each market. For this, we'll build a frequency table for the prime_genre column of the App Store data set, and the Genres and Category columns of the Google Play data set."
   ]
  },
  {
   "cell_type": "markdown",
   "metadata": {},
   "source": [
    "## Part Two\n",
    "We'll build two functions we can use to analyze the frequency tables:\n",
    "\n",
    "* One function to generate frequency tables that show percentages\n",
    "* Another function that we can use to display the percentages in a descending order"
   ]
  },
  {
   "cell_type": "code",
   "execution_count": 21,
   "metadata": {},
   "outputs": [],
   "source": [
    "def freq_table(dataset, index):\n",
    "    tmp_table = {}\n",
    "    for line in dataset:\n",
    "        value = line[index]\n",
    "        if value in tmp_table.keys():\n",
    "            tmp_table[value] += 1\n",
    "        else:\n",
    "            tmp_table[value] = 1\n",
    "            \n",
    "    result = {}\n",
    "    dataset_len = len(dataset)\n",
    "    for key, tmp_value in tmp_table.items():\n",
    "        key_frequency_value = tmp_value/dataset_len * 100\n",
    "        result[key] = key_frequency_value\n",
    "        \n",
    "    return result\n",
    "\n",
    "def display_table(dataset, index):\n",
    "    table = freq_table(dataset, index)\n",
    "    table_display = []\n",
    "    for key in table:\n",
    "        key_val_as_tuple = (table[key], key)\n",
    "        table_display.append(key_val_as_tuple)\n",
    "\n",
    "    table_sorted = sorted(table_display, reverse = True)\n",
    "    for entry in table_sorted:\n",
    "        print(entry[1], ':', entry[0])"
   ]
  },
  {
   "cell_type": "markdown",
   "metadata": {},
   "source": [
    "## Part Three\n",
    "We start by examining the frequency table for the prime_genre column of the App Store data set."
   ]
  },
  {
   "cell_type": "code",
   "execution_count": 22,
   "metadata": {},
   "outputs": [
    {
     "name": "stdout",
     "output_type": "stream",
     "text": [
      "Games : 59.60264900662252\n",
      "Entertainment : 7.6158940397351\n",
      "Photo & Video : 4.966887417218543\n",
      "Education : 3.80794701986755\n",
      "Social Networking : 3.1788079470198674\n",
      "Shopping : 2.4503311258278146\n",
      "Utilities : 2.218543046357616\n",
      "Music : 2.0860927152317883\n",
      "Sports : 2.019867549668874\n",
      "Health & Fitness : 1.95364238410596\n",
      "Productivity : 1.6556291390728477\n",
      "Lifestyle : 1.490066225165563\n",
      "News : 1.2913907284768211\n",
      "Travel : 1.0927152317880795\n",
      "Finance : 1.0927152317880795\n",
      "Weather : 0.8609271523178808\n",
      "Food & Drink : 0.8609271523178808\n",
      "Reference : 0.5298013245033113\n",
      "Business : 0.49668874172185434\n",
      "Book : 0.26490066225165565\n",
      "Medical : 0.1986754966887417\n",
      "Navigation : 0.16556291390728478\n",
      "Catalogs : 0.09933774834437085\n"
     ]
    }
   ],
   "source": [
    "display_table(apple_final, -5)"
   ]
  },
  {
   "cell_type": "markdown",
   "metadata": {},
   "source": [
    "We can see that among the free English apps, more than a half (55.64%) are games. Entertainment apps are about 8-ish %, followed by photo & video apps, which are close to 5%, followed by social networking apps which amount for 3.52% of the apps in our data set.. Only 3.25% of the apps are designed for education\n",
    "\n",
    "The general impression is that App Store (at least the part containing free English apps) is dominated by apps that are designed for fun (games, entertainment, photo and video, social networking, sports, music, etc.), while apps with practical purposes (education, shopping, utilities, productivity, lifestyle, etc.) are more rare. However, the fact that fun apps are the most numerous doesn't also imply that they also have the greatest number of users — the demand might not be the same as the offer.\n",
    "\n",
    "Let's continue by examining the _Genres_ and _Category_ columns of the Google Play data set (two columns which seem to be related)."
   ]
  },
  {
   "cell_type": "code",
   "execution_count": 23,
   "metadata": {},
   "outputs": [
    {
     "name": "stdout",
     "output_type": "stream",
     "text": [
      "FAMILY : 18.926817862988077\n",
      "GAME : 9.72644376899696\n",
      "TOOLS : 8.557400046761748\n",
      "BUSINESS : 4.687865326163198\n",
      "PRODUCTIVITY : 3.9396773439326633\n",
      "LIFESTYLE : 3.904606032265607\n",
      "FINANCE : 3.7175590367079727\n",
      "MEDICAL : 3.624035538929156\n",
      "PERSONALIZATION : 3.3785363572597613\n",
      "SPORTS : 3.2382511105915364\n",
      "COMMUNICATION : 3.20317979892448\n",
      "HEALTH_AND_FITNESS : 3.1213467383680147\n",
      "PHOTOGRAPHY : 2.9693710544774374\n",
      "NEWS_AND_MAGAZINES : 2.7706336216974514\n",
      "SOCIAL : 2.6654196866962825\n",
      "TRAVEL_AND_LOCAL : 2.2913256955810146\n",
      "SHOPPING : 2.221183072246902\n",
      "BOOKS_AND_REFERENCE : 2.1627308861351415\n",
      "DATING : 1.82370820668693\n",
      "VIDEO_PLAYERS : 1.7535655833528174\n",
      "MAPS_AND_NAVIGATION : 1.3327098433481412\n",
      "FOOD_AND_DRINK : 1.227495908346972\n",
      "EDUCATION : 1.1573532850128596\n",
      "ENTERTAINMENT : 0.9469254150105214\n",
      "LIBRARIES_AND_DEMO : 0.9352349777881692\n",
      "AUTO_AND_VEHICLES : 0.9235445405658173\n",
      "HOUSE_AND_HOME : 0.8183306055646482\n",
      "WEATHER : 0.7832592938975917\n",
      "EVENTS : 0.701426233341127\n",
      "PARENTING : 0.6546644844517185\n",
      "ART_AND_DESIGN : 0.6546644844517185\n",
      "BEAUTY : 0.6195931727846622\n",
      "COMICS : 0.5611409866729016\n"
     ]
    }
   ],
   "source": [
    "display_table(google_final, 1) # Category"
   ]
  },
  {
   "cell_type": "markdown",
   "metadata": {},
   "source": [
    "The landscape seems significantly different on Google Play: there are not that many apps designed for fun, and it seems that a good number of apps are designed for practical purposes (family, tools, business, lifestyle, productivity, etc.). However, if we investigate this further, we can see that the family category (which accounts for almost 19% of the apps) means mostly games for kids.\n",
    "\n",
    "Even so, practical apps seem to have a better representation on Google Play compared to App Store. This picture is also confirmed by the frequency table we see for the _Genres_ column:"
   ]
  },
  {
   "cell_type": "code",
   "execution_count": 24,
   "metadata": {},
   "outputs": [
    {
     "name": "stdout",
     "output_type": "stream",
     "text": [
      "Tools : 8.545709609539397\n",
      "Entertainment : 6.055646481178396\n",
      "Education : 5.342529810614917\n",
      "Business : 4.687865326163198\n",
      "Productivity : 3.9396773439326633\n",
      "Lifestyle : 3.8929155950432546\n",
      "Finance : 3.7175590367079727\n",
      "Medical : 3.624035538929156\n",
      "Personalization : 3.3785363572597613\n",
      "Sports : 3.3083937339256484\n",
      "Communication : 3.20317979892448\n",
      "Action : 3.1564180500350716\n",
      "Health & Fitness : 3.1213467383680147\n",
      "Photography : 2.9693710544774374\n",
      "News & Magazines : 2.7706336216974514\n",
      "Social : 2.6654196866962825\n",
      "Travel & Local : 2.2913256955810146\n",
      "Shopping : 2.221183072246902\n",
      "Books & Reference : 2.1627308861351415\n",
      "Simulation : 2.104278700023381\n",
      "Arcade : 1.8587795183539864\n",
      "Dating : 1.82370820668693\n",
      "Casual : 1.800327332242226\n",
      "Video Players & Editors : 1.730184708908113\n",
      "Maps & Navigation : 1.3327098433481412\n",
      "Food & Drink : 1.227495908346972\n",
      "Puzzle : 1.1456628477905073\n",
      "Racing : 1.017068038344634\n",
      "Strategy : 0.9469254150105214\n",
      "Role Playing : 0.9469254150105214\n",
      "Libraries & Demo : 0.9352349777881692\n",
      "Auto & Vehicles : 0.9235445405658173\n",
      "House & Home : 0.8183306055646482\n",
      "Weather : 0.7832592938975917\n",
      "Events : 0.701426233341127\n",
      "Adventure : 0.6429740472293664\n",
      "Beauty : 0.6195931727846622\n",
      "Art & Design : 0.60790273556231\n",
      "Comics : 0.5494505494505495\n",
      "Parenting : 0.502688800561141\n",
      "Card : 0.43254617722702826\n",
      "Trivia : 0.4091653027823241\n",
      "Educational;Education : 0.4091653027823241\n",
      "Casino : 0.38578442833761983\n",
      "Educational : 0.3740939911152677\n",
      "Board : 0.3740939911152677\n",
      "Education;Education : 0.33902267944821135\n",
      "Word : 0.2571896188917466\n",
      "Casual;Pretend Play : 0.2221183072246902\n",
      "Music : 0.19873743277998598\n",
      "Racing;Action & Adventure : 0.17535655833528174\n",
      "Puzzle;Brain Games : 0.17535655833528174\n",
      "Entertainment;Music & Video : 0.1402852466682254\n",
      "Casual;Brain Games : 0.1402852466682254\n",
      "Casual;Action & Adventure : 0.1402852466682254\n",
      "Arcade;Action & Adventure : 0.10521393500116906\n",
      "Action;Action & Adventure : 0.09352349777881692\n",
      "Simulation;Action & Adventure : 0.08183306055646482\n",
      "Parenting;Education : 0.08183306055646482\n",
      "Educational;Pretend Play : 0.08183306055646482\n",
      "Entertainment;Brain Games : 0.0701426233341127\n",
      "Art & Design;Creativity : 0.0701426233341127\n",
      "Parenting;Music & Video : 0.058452186111760576\n",
      "Educational;Brain Games : 0.058452186111760576\n",
      "Education;Pretend Play : 0.058452186111760576\n",
      "Casual;Creativity : 0.058452186111760576\n",
      "Board;Brain Games : 0.058452186111760576\n",
      "Role Playing;Pretend Play : 0.04676174888940846\n",
      "Education;Creativity : 0.04676174888940846\n",
      "Role Playing;Action & Adventure : 0.03507131166705635\n",
      "Puzzle;Action & Adventure : 0.03507131166705635\n",
      "Educational;Creativity : 0.03507131166705635\n",
      "Educational;Action & Adventure : 0.03507131166705635\n",
      "Education;Music & Video : 0.03507131166705635\n",
      "Education;Action & Adventure : 0.03507131166705635\n",
      "Adventure;Action & Adventure : 0.03507131166705635\n",
      "Video Players & Editors;Music & Video : 0.02338087444470423\n",
      "Sports;Action & Adventure : 0.02338087444470423\n",
      "Simulation;Pretend Play : 0.02338087444470423\n",
      "Puzzle;Creativity : 0.02338087444470423\n",
      "Music;Music & Video : 0.02338087444470423\n",
      "Entertainment;Pretend Play : 0.02338087444470423\n",
      "Entertainment;Creativity : 0.02338087444470423\n",
      "Entertainment;Action & Adventure : 0.02338087444470423\n",
      "Education;Brain Games : 0.02338087444470423\n",
      "Casual;Education : 0.02338087444470423\n",
      "Board;Action & Adventure : 0.02338087444470423\n",
      "Video Players & Editors;Creativity : 0.011690437222352116\n",
      "Trivia;Education : 0.011690437222352116\n",
      "Tools;Education : 0.011690437222352116\n",
      "Strategy;Education : 0.011690437222352116\n",
      "Strategy;Creativity : 0.011690437222352116\n",
      "Strategy;Action & Adventure : 0.011690437222352116\n",
      "Simulation;Education : 0.011690437222352116\n",
      "Role Playing;Brain Games : 0.011690437222352116\n",
      "Racing;Pretend Play : 0.011690437222352116\n",
      "Puzzle;Education : 0.011690437222352116\n",
      "Parenting;Brain Games : 0.011690437222352116\n",
      "Music & Audio;Music & Video : 0.011690437222352116\n",
      "Lifestyle;Pretend Play : 0.011690437222352116\n",
      "Health & Fitness;Education : 0.011690437222352116\n",
      "Health & Fitness;Action & Adventure : 0.011690437222352116\n",
      "Entertainment;Education : 0.011690437222352116\n",
      "Comics;Creativity : 0.011690437222352116\n",
      "Casual;Music & Video : 0.011690437222352116\n",
      "Card;Action & Adventure : 0.011690437222352116\n",
      "Books & Reference;Education : 0.011690437222352116\n",
      "Art & Design;Pretend Play : 0.011690437222352116\n",
      "Art & Design;Action & Adventure : 0.011690437222352116\n",
      "Arcade;Pretend Play : 0.011690437222352116\n",
      "Adventure;Education : 0.011690437222352116\n"
     ]
    }
   ],
   "source": [
    "display_table(google_final, -4) # Genres"
   ]
  },
  {
   "cell_type": "markdown",
   "metadata": {},
   "source": [
    "The difference between the _Genres_ and the _Category_ columns is not crystal clear, but one thing we can notice is that the _Genres_ column is much more granular (it has more categories). We're only looking for the bigger picture at the moment, so we'll only work with the _Category_ column moving forward.\n",
    "\n",
    "Up to this point, we found that the App Store is dominated by apps designed for fun, while Google Play shows a more balanced landscape of both practical and for-fun apps. Now we'd like to get an idea about the kind of apps that have most users."
   ]
  },
  {
   "cell_type": "markdown",
   "metadata": {},
   "source": [
    "# Most Popular Apps by Genre on the App Store\n",
    "One way to find out what genres are the most popular (have the most users) is to calculate the average number of installs for each app genre. For the Google Play data set, we can find this information in the _Installs_ column, but for the App Store data set this information is missing. As a workaround, we'll take the total number of user ratings as a proxy, which we can find in the _rating_count_tot_ app.\n",
    "\n",
    "Below, we calculate the average number of user ratings per app genre on the App Store:"
   ]
  },
  {
   "cell_type": "code",
   "execution_count": 25,
   "metadata": {},
   "outputs": [
    {
     "name": "stdout",
     "output_type": "stream",
     "text": [
      "Medical : 612.0\n",
      "Catalogs : 5195.0\n",
      "Education : 6099.417391304348\n",
      "Business : 6839.6\n",
      "Utilities : 11413.179104477613\n",
      "Entertainment : 14481.995652173913\n",
      "Book : 16671.0\n",
      "Lifestyle : 17848.51111111111\n",
      "Health & Fitness : 19230.86440677966\n",
      "Games : 22820.230555555554\n",
      "Productivity : 22842.22\n",
      "News : 23382.17948717949\n",
      "Sports : 25382.114754098362\n",
      "Finance : 26729.090909090908\n",
      "Shopping : 28517.72972972973\n",
      "Photo & Video : 29249.766666666666\n",
      "Food & Drink : 33333.92307692308\n",
      "Travel : 34115.57575757576\n",
      "Weather : 48275.57692307692\n",
      "Music : 55396.01587301587\n",
      "Social Networking : 75253.84375\n",
      "Reference : 84258.25\n",
      "Navigation : 102592.0\n"
     ]
    }
   ],
   "source": [
    "def get_avg_n_ratings_by_genre(dataset, genre_index, rating_index):\n",
    "\n",
    "    result = []\n",
    "    genres = freq_table(dataset, genre_index)\n",
    "\n",
    "    for genre in genres:\n",
    "        total = 0\n",
    "        len_genre = 0\n",
    "        for app in dataset:\n",
    "            genre_app = app[genre_index]\n",
    "            if genre_app == genre:\n",
    "                n_ratings = float(app[rating_index])\n",
    "                total += n_ratings\n",
    "                len_genre += 1\n",
    "        avg_n_ratings = total / len_genre\n",
    "        result.append((avg_n_ratings, genre))\n",
    "    \n",
    "    result.sort()\n",
    "    for value in result:\n",
    "        print(value[1], ':', value[0])\n",
    "        pass\n",
    "        \n",
    "get_avg_n_ratings_by_genre(apple_final, -5, 6)\n",
    "\n"
   ]
  },
  {
   "cell_type": "markdown",
   "metadata": {},
   "source": [
    "On average, navigation apps have the highest number of user reviews, but this figure is heavily influenced by Waze and Google Maps, which have close to half a million user reviews together:"
   ]
  },
  {
   "cell_type": "code",
   "execution_count": 27,
   "metadata": {},
   "outputs": [
    {
     "name": "stdout",
     "output_type": "stream",
     "text": [
      "Waze - GPS Navigation, Maps & Real-time Traffic : 345046\n",
      "Geocaching® : 12811\n",
      "ImmobilienScout24: Real Estate Search in Germany : 187\n",
      "Railway Route Search : 5\n",
      "Google Maps - Navigation & Transit : 154911\n"
     ]
    }
   ],
   "source": [
    "for app in apple_final:\n",
    "    if app[-5] == 'Navigation':\n",
    "        print(app[2], ':', app[6]) # print name and number of ratings"
   ]
  },
  {
   "cell_type": "markdown",
   "metadata": {},
   "source": [
    "The same pattern applies to social networking apps, where the average number is heavily influenced by a few giants like Facebook, Pinterest, Skype, etc. Same applies to music apps, where a few big players like Pandora, Spotify, and Shazam heavily influence the average number.\n",
    "\n",
    "Our aim is to find popular genres, but navigation, social networking or music apps might seem more popular than they really are. The average number of ratings seem to be skewed by very few apps which have hundreds of thousands of user ratings, while the other apps may struggle to get past the 10,000 threshold. We could get a better picture by removing these extremely popular apps for each genre and then rework the averages, but we'll leave this level of detail for later.\n",
    "\n",
    "Reference apps have 84,258 user ratings on average, but it's actually the Bible and Dictionary.com which skew up the average rating:"
   ]
  },
  {
   "cell_type": "code",
   "execution_count": 32,
   "metadata": {},
   "outputs": [
    {
     "name": "stdout",
     "output_type": "stream",
     "text": [
      "Bible : 985920\n",
      "Dictionary.com Dictionary & Thesaurus : 200047\n",
      "Dictionary.com Dictionary & Thesaurus for iPad : 54175\n",
      "Muslim Pro: Ramadan 2017 Prayer Times, Azan, Quran : 18418\n",
      "Merriam-Webster Dictionary : 16849\n",
      "Google Translate : 26786\n",
      "Night Sky : 12122\n",
      "WWDC : 762\n",
      "Jishokun-Japanese English Dictionary & Translator : 0\n",
      "VPN Express : 14\n",
      "New Furniture Mods - Pocket Wiki & Game Tools for Minecraft PC Edition : 17588\n",
      "LUCKY BLOCK MOD ™ for Minecraft PC Edition - The Best Pocket Wiki & Mods Installer Tools : 4693\n",
      "Horror Maps for Minecraft PE - Download The Scariest Maps for Minecraft Pocket Edition (MCPE) Free : 718\n",
      "City Maps for Minecraft PE - The Best Maps for Minecraft Pocket Edition (MCPE) : 8535\n",
      "GUNS MODS for Minecraft PC Edition - Mods Tools : 1497\n",
      "Real Bike Traffic Rider Virtual Reality Glasses : 8\n"
     ]
    }
   ],
   "source": [
    "for app in apple_final:\n",
    "    if app[-5] == 'Reference':\n",
    "        print(app[2], ':', app[6])"
   ]
  },
  {
   "cell_type": "markdown",
   "metadata": {},
   "source": [
    "However, this niche seems to show some potential. One thing we could do is take another popular book and turn it into an app where we could add different features besides the raw version of the book. This might include daily quotes from the book, an audio version of the book, quizzes about the book, etc. On top of that, we could also embed a dictionary within the app, so users don't need to exit our app to look up words in an external app.\n",
    "\n",
    "This idea seems to fit well with the fact that the App Store is dominated by for-fun apps. This suggests the market might be a bit saturated with for-fun apps, which means a practical app might have more of a chance to stand out among the huge number of apps on the App Store.\n",
    "\n",
    "Other genres that seem popular include weather, book, food and drink, or finance. The book genre seem to overlap a bit with the app idea we described above, but the other genres don't seem too interesting to us:\n",
    "\n",
    "Weather apps — people generally don't spend too much time in-app, and the chances of making profit from in-app adds are low. Also, getting reliable live weather data may require us to connect our apps to non-free APIs.\n",
    "\n",
    "Food and drink — examples here include Starbucks, Dunkin' Donuts, McDonald's, etc. So making a popular food and drink app requires actual cooking and a delivery service, which is outside the scope of our company.\n",
    "\n",
    "Finance apps — these apps involve banking, paying bills, money transfer, etc. Building a finance app requires domain knowledge, and we don't want to hire a finance expert just to build an app.\n",
    "\n",
    "Now let's analyze the Google Play market a bit."
   ]
  }
 ],
 "metadata": {
  "kernelspec": {
   "display_name": "Python 3",
   "language": "python",
   "name": "python3"
  },
  "language_info": {
   "codemirror_mode": {
    "name": "ipython",
    "version": 3
   },
   "file_extension": ".py",
   "mimetype": "text/x-python",
   "name": "python",
   "nbconvert_exporter": "python",
   "pygments_lexer": "ipython3",
   "version": "3.7.3"
  }
 },
 "nbformat": 4,
 "nbformat_minor": 2
}
